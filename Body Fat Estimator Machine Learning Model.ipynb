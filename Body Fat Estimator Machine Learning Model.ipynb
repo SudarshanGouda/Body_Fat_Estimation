{
 "cells": [
  {
   "cell_type": "markdown",
   "id": "1baa1e1c",
   "metadata": {},
   "source": [
    "# Body Fat Estimator Machine Learning Model"
   ]
  },
  {
   "cell_type": "code",
   "execution_count": 1,
   "id": "807b542d",
   "metadata": {},
   "outputs": [],
   "source": [
    "import pandas as pd\n",
    "import numpy as np\n",
    "import matplotlib.pyplot as plt\n",
    "import seaborn as sns\n",
    "import warnings\n",
    "warnings.filterwarnings('ignore')"
   ]
  },
  {
   "cell_type": "code",
   "execution_count": 39,
   "id": "d3a78535",
   "metadata": {},
   "outputs": [],
   "source": [
    "X_train=pd.read_pickle(\"./X_train.pkl\")\n",
    "X_test=pd.read_pickle(\"./X_test.pkl\")\n",
    "y_train=pd.read_pickle(\"./y_train.pkl\")\n",
    "y_test=pd.read_pickle(\"./y_test.pkl\")\n",
    "\n",
    "X=pd.read_pickle(\"./X.pkl\")"
   ]
  },
  {
   "cell_type": "markdown",
   "id": "a511348e",
   "metadata": {},
   "source": [
    "## Standard Scalar"
   ]
  },
  {
   "cell_type": "code",
   "execution_count": 3,
   "id": "dc8c78fd",
   "metadata": {},
   "outputs": [],
   "source": [
    "from sklearn.preprocessing import StandardScaler\n",
    "sc=StandardScaler()\n",
    "X_train=sc.fit_transform(X_train)\n",
    "X_test=sc.transform(X_test)"
   ]
  },
  {
   "cell_type": "markdown",
   "id": "a052ba2f",
   "metadata": {},
   "source": [
    "## Model Preparation"
   ]
  },
  {
   "cell_type": "markdown",
   "id": "d8020dc5",
   "metadata": {},
   "source": [
    "### Linear Regression"
   ]
  },
  {
   "cell_type": "code",
   "execution_count": 4,
   "id": "846cdfb5",
   "metadata": {},
   "outputs": [
    {
     "name": "stdout",
     "output_type": "stream",
     "text": [
      "0.5375885845250226\n",
      "0.6166677946946767\n",
      "0.9886520652440229\n"
     ]
    }
   ],
   "source": [
    "from sklearn.linear_model import LinearRegression\n",
    "M1= LinearRegression()\n",
    "M1.fit(X_train,y_train)\n",
    "P1= M1.predict(X_test)\n",
    "\n",
    "\n",
    "from sklearn.metrics import mean_squared_log_error,mean_squared_error,mean_absolute_error,r2_score\n",
    "print(mean_absolute_error(y_test,P1))\n",
    "print(mean_squared_error(y_test,P1))\n",
    "print(r2_score(y_test,P1))"
   ]
  },
  {
   "cell_type": "markdown",
   "id": "c717e985",
   "metadata": {},
   "source": [
    "### Linear Regression digree 2"
   ]
  },
  {
   "cell_type": "code",
   "execution_count": 5,
   "id": "a76c5681",
   "metadata": {},
   "outputs": [
    {
     "name": "stdout",
     "output_type": "stream",
     "text": [
      "2.2131905691964286\n",
      "18.43375712122236\n",
      "0.6607815830195415\n"
     ]
    }
   ],
   "source": [
    "from sklearn.preprocessing import PolynomialFeatures\n",
    "from sklearn.pipeline import make_pipeline\n",
    "\n",
    "M2 = make_pipeline(PolynomialFeatures(degree=2),LinearRegression())\n",
    "M2.fit(X_train,y_train)\n",
    "P2=M2.predict(X_test)\n",
    "\n",
    "\n",
    "print(mean_absolute_error(y_test,P2))\n",
    "print(mean_squared_error(y_test,P2))\n",
    "print(r2_score(y_test,P2))"
   ]
  },
  {
   "cell_type": "markdown",
   "id": "1b63e8bc",
   "metadata": {},
   "source": [
    "### Linear Regression digree 3"
   ]
  },
  {
   "cell_type": "code",
   "execution_count": 6,
   "id": "b1f9c89d",
   "metadata": {},
   "outputs": [
    {
     "name": "stdout",
     "output_type": "stream",
     "text": [
      "4.806988801518981\n",
      "738.069423090968\n",
      "-12.581970277473006\n"
     ]
    }
   ],
   "source": [
    "M3 = make_pipeline(PolynomialFeatures(degree=3),LinearRegression())\n",
    "M3.fit(X_train,y_train)\n",
    "P3=M3.predict(X_test)\n",
    "\n",
    "print(mean_absolute_error(y_test,P3))\n",
    "print(mean_squared_error(y_test,P3))\n",
    "print(r2_score(y_test,P3))"
   ]
  },
  {
   "cell_type": "markdown",
   "id": "934d234d",
   "metadata": {},
   "source": [
    "### Ridge Regression"
   ]
  },
  {
   "cell_type": "code",
   "execution_count": 7,
   "id": "e05f8245",
   "metadata": {},
   "outputs": [
    {
     "name": "stdout",
     "output_type": "stream",
     "text": [
      "0.5826116566675781\n",
      "0.6867998643520724\n",
      "0.9873614933062298\n"
     ]
    }
   ],
   "source": [
    "from sklearn.linear_model import Ridge\n",
    "M4 = Ridge()\n",
    "M4.fit(X_train,y_train)\n",
    "P4= M4.predict(X_test)\n",
    "\n",
    "print(mean_absolute_error(y_test,P4))\n",
    "print(mean_squared_error(y_test,P4))\n",
    "print(r2_score(y_test,P4))"
   ]
  },
  {
   "cell_type": "markdown",
   "id": "211ae8b4",
   "metadata": {},
   "source": [
    "### Ridge Regression digree 2"
   ]
  },
  {
   "cell_type": "code",
   "execution_count": 9,
   "id": "218dc3c4",
   "metadata": {},
   "outputs": [
    {
     "name": "stdout",
     "output_type": "stream",
     "text": [
      "0.7676702250587782\n",
      "1.691327531859886\n",
      "0.9688761523665484\n"
     ]
    }
   ],
   "source": [
    "M5 = make_pipeline(PolynomialFeatures(degree=2),Ridge())\n",
    "M5.fit(X_train,y_train)\n",
    "P5= M5.predict(X_test)\n",
    "\n",
    "print(mean_absolute_error(y_test,P5))\n",
    "print(mean_squared_error(y_test,P5))\n",
    "print(r2_score(y_test,P5))"
   ]
  },
  {
   "cell_type": "markdown",
   "id": "b2c7f000",
   "metadata": {},
   "source": [
    "### Ridge Regression digree 3"
   ]
  },
  {
   "cell_type": "code",
   "execution_count": 11,
   "id": "f489c7ec",
   "metadata": {},
   "outputs": [
    {
     "name": "stdout",
     "output_type": "stream",
     "text": [
      "4.980415354610173\n",
      "772.5966269431245\n",
      "-13.217340666508136\n"
     ]
    }
   ],
   "source": [
    "M6 = make_pipeline(PolynomialFeatures(degree=3),Ridge())\n",
    "M6.fit(X_train,y_train)\n",
    "P6= M6.predict(X_test)\n",
    "\n",
    "print(mean_absolute_error(y_test,P6))\n",
    "print(mean_squared_error(y_test,P6))\n",
    "print(r2_score(y_test,P6))"
   ]
  },
  {
   "cell_type": "markdown",
   "id": "cbe7d057",
   "metadata": {},
   "source": [
    "### Lasso"
   ]
  },
  {
   "cell_type": "code",
   "execution_count": 13,
   "id": "1879e3a3",
   "metadata": {},
   "outputs": [
    {
     "name": "stdout",
     "output_type": "stream",
     "text": [
      "0.8966641190557256\n",
      "1.1749474933273696\n",
      "0.9783785895571548\n"
     ]
    }
   ],
   "source": [
    "from sklearn.linear_model import Lasso\n",
    "M7 = Lasso()\n",
    "M7.fit(X_train,y_train)\n",
    "P7 = M7.predict(X_test)\n",
    "\n",
    "print(mean_absolute_error(y_test,P7))\n",
    "print(mean_squared_error(y_test,P7))\n",
    "print(r2_score(y_test,P7))"
   ]
  },
  {
   "cell_type": "markdown",
   "id": "75e8a8d9",
   "metadata": {},
   "source": [
    "### Decision Tree Regressor"
   ]
  },
  {
   "cell_type": "code",
   "execution_count": 14,
   "id": "3ede8668",
   "metadata": {},
   "outputs": [
    {
     "name": "stdout",
     "output_type": "stream",
     "text": [
      "0.32500000000000007\n",
      "0.47345238095238107\n",
      "0.6880787607188447\n",
      "0.9912875185386165\n"
     ]
    }
   ],
   "source": [
    "from sklearn.tree import DecisionTreeRegressor\n",
    "M11 = DecisionTreeRegressor()\n",
    "M11.fit(X_train,y_train)\n",
    "P11 = M11.predict(X_test)\n",
    "\n",
    "print(mean_absolute_error(y_test,P11))\n",
    "print(mean_squared_error(y_test,P11))\n",
    "print(np.sqrt(mean_squared_error(y_test,P11)))\n",
    "print(r2_score(y_test,P11))"
   ]
  },
  {
   "cell_type": "markdown",
   "id": "51213912",
   "metadata": {},
   "source": [
    "### Random Forest Regressor"
   ]
  },
  {
   "cell_type": "code",
   "execution_count": 16,
   "id": "98683cec",
   "metadata": {},
   "outputs": [
    {
     "name": "stdout",
     "output_type": "stream",
     "text": [
      "0.4574523809523801\n",
      "1.1564248571428546\n",
      "1.0753719622264915\n",
      "0.9787194435286756\n"
     ]
    }
   ],
   "source": [
    "from sklearn.ensemble import RandomForestRegressor\n",
    "M12 = RandomForestRegressor()\n",
    "\n",
    "M12.fit(X_train,y_train)\n",
    "P12= M12.predict(X_test)\n",
    "\n",
    "print(mean_absolute_error(y_test,P12))\n",
    "print(mean_squared_error(y_test,P12))\n",
    "print(np.sqrt(mean_squared_error(y_test,P12)))\n",
    "print(r2_score(y_test,P12))"
   ]
  },
  {
   "cell_type": "markdown",
   "id": "27f7ae24",
   "metadata": {},
   "source": [
    "### AdaBoost Regressor"
   ]
  },
  {
   "cell_type": "code",
   "execution_count": 18,
   "id": "6bcd82df",
   "metadata": {},
   "outputs": [
    {
     "name": "stdout",
     "output_type": "stream",
     "text": [
      "1.1630735603355855\n",
      "3.348403914695006\n",
      "1.8298644525469656\n",
      "0.9383825951549322\n"
     ]
    }
   ],
   "source": [
    "from sklearn.ensemble import AdaBoostRegressor\n",
    "M13 =AdaBoostRegressor()\n",
    "\n",
    "M13.fit(X_train,y_train)\n",
    "P13 =M13.predict(X_test)\n",
    "\n",
    "print(mean_absolute_error(y_test,P13))\n",
    "print(mean_squared_error(y_test,P13))\n",
    "print(np.sqrt(mean_squared_error(y_test,P13)))\n",
    "print(r2_score(y_test,P13))"
   ]
  },
  {
   "cell_type": "markdown",
   "id": "68f30f48",
   "metadata": {},
   "source": [
    "### Gradient Boosting Regressor"
   ]
  },
  {
   "cell_type": "code",
   "execution_count": 19,
   "id": "c8589532",
   "metadata": {},
   "outputs": [
    {
     "name": "stdout",
     "output_type": "stream",
     "text": [
      "0.45269911768724064\n",
      "0.9313863294993041\n",
      "0.9650835867940684\n",
      "0.9828606076226177\n"
     ]
    }
   ],
   "source": [
    "from sklearn.ensemble import GradientBoostingRegressor\n",
    "M14 = GradientBoostingRegressor()\n",
    "\n",
    "M14.fit(X_train,y_train)\n",
    "P14 = M14.predict(X_test)\n",
    "\n",
    "print(mean_absolute_error(y_test,P14))\n",
    "print(mean_squared_error(y_test,P14))\n",
    "print(np.sqrt(mean_squared_error(y_test,P14)))\n",
    "print(r2_score(y_test,P14))"
   ]
  },
  {
   "cell_type": "markdown",
   "id": "89a3b0a2",
   "metadata": {},
   "source": [
    "### Neural Network Regression"
   ]
  },
  {
   "cell_type": "code",
   "execution_count": 27,
   "id": "08236c72",
   "metadata": {},
   "outputs": [
    {
     "name": "stdout",
     "output_type": "stream",
     "text": [
      "1.1177346192419566\n",
      "2.9457197697390214\n",
      "1.716309928229462\n",
      "0.9457927979311116\n"
     ]
    }
   ],
   "source": [
    "from sklearn.neural_network import MLPRegressor\n",
    "M17= MLPRegressor(hidden_layer_sizes=(10000,))\n",
    "\n",
    "M17.fit(X_train,y_train)\n",
    "\n",
    "P17= M17.predict(X_test)\n",
    "\n",
    "print(mean_absolute_error(y_test,P17))\n",
    "print(mean_squared_error(y_test,P17))\n",
    "print(np.sqrt(mean_squared_error(y_test,P17)))\n",
    "print(r2_score(y_test,P17))"
   ]
  },
  {
   "cell_type": "code",
   "execution_count": 29,
   "id": "55d5a937",
   "metadata": {},
   "outputs": [],
   "source": [
    "Name=['Linear Regression','Linear Regression digree 2','Linear Regression digree 3','Ridge Regression',\n",
    "      'Ridge Regression digree 2','Ridge Regression digree 3','Lasso','Decision Tree Regressor','Random Forest Regressor',\n",
    "      'AdaBoost Regressor','Gradient Boosting Regressor','Neural Network Regression']\n",
    "clfs= [M1,M2,M3,M4,M5,M6,M7,M11,M12,M13,M14,M17]"
   ]
  },
  {
   "cell_type": "code",
   "execution_count": 30,
   "id": "8d6fb50c",
   "metadata": {},
   "outputs": [
    {
     "data": {
      "text/html": [
       "<div>\n",
       "<style scoped>\n",
       "    .dataframe tbody tr th:only-of-type {\n",
       "        vertical-align: middle;\n",
       "    }\n",
       "\n",
       "    .dataframe tbody tr th {\n",
       "        vertical-align: top;\n",
       "    }\n",
       "\n",
       "    .dataframe thead th {\n",
       "        text-align: right;\n",
       "    }\n",
       "</style>\n",
       "<table border=\"1\" class=\"dataframe\">\n",
       "  <thead>\n",
       "    <tr style=\"text-align: right;\">\n",
       "      <th></th>\n",
       "      <th>R2</th>\n",
       "    </tr>\n",
       "  </thead>\n",
       "  <tbody>\n",
       "    <tr>\n",
       "      <th>Decision Tree Regressor</th>\n",
       "      <td>0.991242</td>\n",
       "    </tr>\n",
       "    <tr>\n",
       "      <th>Linear Regression</th>\n",
       "      <td>0.988652</td>\n",
       "    </tr>\n",
       "    <tr>\n",
       "      <th>Ridge Regression</th>\n",
       "      <td>0.987361</td>\n",
       "    </tr>\n",
       "    <tr>\n",
       "      <th>Random Forest Regressor</th>\n",
       "      <td>0.983692</td>\n",
       "    </tr>\n",
       "    <tr>\n",
       "      <th>Gradient Boosting Regressor</th>\n",
       "      <td>0.982504</td>\n",
       "    </tr>\n",
       "    <tr>\n",
       "      <th>Lasso</th>\n",
       "      <td>0.978379</td>\n",
       "    </tr>\n",
       "    <tr>\n",
       "      <th>Ridge Regression digree 2</th>\n",
       "      <td>0.968876</td>\n",
       "    </tr>\n",
       "    <tr>\n",
       "      <th>Neural Network Regression</th>\n",
       "      <td>0.944196</td>\n",
       "    </tr>\n",
       "    <tr>\n",
       "      <th>AdaBoost Regressor</th>\n",
       "      <td>0.931655</td>\n",
       "    </tr>\n",
       "    <tr>\n",
       "      <th>Linear Regression digree 2</th>\n",
       "      <td>0.660782</td>\n",
       "    </tr>\n",
       "    <tr>\n",
       "      <th>Linear Regression digree 3</th>\n",
       "      <td>-12.581970</td>\n",
       "    </tr>\n",
       "    <tr>\n",
       "      <th>Ridge Regression digree 3</th>\n",
       "      <td>-13.217341</td>\n",
       "    </tr>\n",
       "  </tbody>\n",
       "</table>\n",
       "</div>"
      ],
      "text/plain": [
       "                                    R2\n",
       "Decision Tree Regressor       0.991242\n",
       "Linear Regression             0.988652\n",
       "Ridge Regression              0.987361\n",
       "Random Forest Regressor       0.983692\n",
       "Gradient Boosting Regressor   0.982504\n",
       "Lasso                         0.978379\n",
       "Ridge Regression digree 2     0.968876\n",
       "Neural Network Regression     0.944196\n",
       "AdaBoost Regressor            0.931655\n",
       "Linear Regression digree 2    0.660782\n",
       "Linear Regression digree 3  -12.581970\n",
       "Ridge Regression digree 3   -13.217341"
      ]
     },
     "execution_count": 30,
     "metadata": {},
     "output_type": "execute_result"
    }
   ],
   "source": [
    "results=[]\n",
    "for i in clfs:\n",
    "    i.fit(X_train,y_train)\n",
    "    r2=r2_score(y_test, i.predict(X_test))\n",
    "    results.append(r2)\n",
    "\n",
    "## Dataframe from result\n",
    "score= pd.DataFrame(results,index=Name)\n",
    "score.columns=['R2']\n",
    "score.sort_values(by='R2',ascending=False)"
   ]
  },
  {
   "cell_type": "markdown",
   "id": "fc532adb",
   "metadata": {},
   "source": [
    "## Cross Validation"
   ]
  },
  {
   "cell_type": "code",
   "execution_count": 31,
   "id": "5adfe409",
   "metadata": {},
   "outputs": [],
   "source": [
    "from sklearn.model_selection import KFold,cross_val_score\n",
    "kfold=KFold(n_splits=5,shuffle=False, random_state=None)"
   ]
  },
  {
   "cell_type": "code",
   "execution_count": 32,
   "id": "c4a662de",
   "metadata": {},
   "outputs": [],
   "source": [
    "kfold=KFold(n_splits=5,shuffle=False, random_state=None)\n",
    "results_mean=[]\n",
    "\n",
    "for i in clfs:\n",
    "    csv=cross_val_score(i,X_train,y_train,cv=kfold)\n",
    "    mean_score=csv.mean()\n",
    "    results_mean.append(mean_score)\n",
    "\n",
    "score= pd.DataFrame(results_mean,index=Name)\n",
    "score.columns=['Accuracy']"
   ]
  },
  {
   "cell_type": "code",
   "execution_count": 33,
   "id": "610b5d84",
   "metadata": {},
   "outputs": [
    {
     "data": {
      "text/html": [
       "<div>\n",
       "<style scoped>\n",
       "    .dataframe tbody tr th:only-of-type {\n",
       "        vertical-align: middle;\n",
       "    }\n",
       "\n",
       "    .dataframe tbody tr th {\n",
       "        vertical-align: top;\n",
       "    }\n",
       "\n",
       "    .dataframe thead th {\n",
       "        text-align: right;\n",
       "    }\n",
       "</style>\n",
       "<table border=\"1\" class=\"dataframe\">\n",
       "  <thead>\n",
       "    <tr style=\"text-align: right;\">\n",
       "      <th></th>\n",
       "      <th>Accuracy</th>\n",
       "    </tr>\n",
       "  </thead>\n",
       "  <tbody>\n",
       "    <tr>\n",
       "      <th>Random Forest Regressor</th>\n",
       "      <td>0.962475</td>\n",
       "    </tr>\n",
       "    <tr>\n",
       "      <th>Ridge Regression</th>\n",
       "      <td>0.960789</td>\n",
       "    </tr>\n",
       "    <tr>\n",
       "      <th>Linear Regression</th>\n",
       "      <td>0.960552</td>\n",
       "    </tr>\n",
       "    <tr>\n",
       "      <th>Lasso</th>\n",
       "      <td>0.957860</td>\n",
       "    </tr>\n",
       "    <tr>\n",
       "      <th>Gradient Boosting Regressor</th>\n",
       "      <td>0.954314</td>\n",
       "    </tr>\n",
       "    <tr>\n",
       "      <th>Neural Network Regression</th>\n",
       "      <td>0.950177</td>\n",
       "    </tr>\n",
       "    <tr>\n",
       "      <th>AdaBoost Regressor</th>\n",
       "      <td>0.945393</td>\n",
       "    </tr>\n",
       "    <tr>\n",
       "      <th>Decision Tree Regressor</th>\n",
       "      <td>0.944740</td>\n",
       "    </tr>\n",
       "    <tr>\n",
       "      <th>Ridge Regression digree 2</th>\n",
       "      <td>0.893638</td>\n",
       "    </tr>\n",
       "    <tr>\n",
       "      <th>Linear Regression digree 2</th>\n",
       "      <td>-0.308604</td>\n",
       "    </tr>\n",
       "    <tr>\n",
       "      <th>Ridge Regression digree 3</th>\n",
       "      <td>-2.134287</td>\n",
       "    </tr>\n",
       "    <tr>\n",
       "      <th>Linear Regression digree 3</th>\n",
       "      <td>-2.168217</td>\n",
       "    </tr>\n",
       "  </tbody>\n",
       "</table>\n",
       "</div>"
      ],
      "text/plain": [
       "                             Accuracy\n",
       "Random Forest Regressor      0.962475\n",
       "Ridge Regression             0.960789\n",
       "Linear Regression            0.960552\n",
       "Lasso                        0.957860\n",
       "Gradient Boosting Regressor  0.954314\n",
       "Neural Network Regression    0.950177\n",
       "AdaBoost Regressor           0.945393\n",
       "Decision Tree Regressor      0.944740\n",
       "Ridge Regression digree 2    0.893638\n",
       "Linear Regression digree 2  -0.308604\n",
       "Ridge Regression digree 3   -2.134287\n",
       "Linear Regression digree 3  -2.168217"
      ]
     },
     "execution_count": 33,
     "metadata": {},
     "output_type": "execute_result"
    }
   ],
   "source": [
    "score.sort_values(by='Accuracy',ascending=False)"
   ]
  },
  {
   "cell_type": "markdown",
   "id": "91649422",
   "metadata": {},
   "source": [
    "## Feature Selection"
   ]
  },
  {
   "cell_type": "markdown",
   "id": "c1fe37f2",
   "metadata": {},
   "source": [
    "### RVCE (Recursive feature elimination with cross validation)"
   ]
  },
  {
   "cell_type": "markdown",
   "id": "a7051f9f",
   "metadata": {},
   "source": [
    "http://scikit-learn.org/stable/modules/generated/sklearn.feature_selection.RFECV.html Now we will not only find best features but we also find how many features do we need for best accuracy."
   ]
  },
  {
   "cell_type": "code",
   "execution_count": 36,
   "id": "6a6dc900",
   "metadata": {},
   "outputs": [
    {
     "data": {
      "text/plain": [
       "(168, 14)"
      ]
     },
     "execution_count": 36,
     "metadata": {},
     "output_type": "execute_result"
    }
   ],
   "source": [
    "X_train.shape"
   ]
  },
  {
   "cell_type": "code",
   "execution_count": 40,
   "id": "fd1fe91e",
   "metadata": {},
   "outputs": [
    {
     "name": "stdout",
     "output_type": "stream",
     "text": [
      "Optimal number of features : 7\n",
      "Best features : Index(['Density', 'Weight', 'Height', 'Chest', 'Abdomen', 'Thigh', 'Knee'], dtype='object')\n"
     ]
    }
   ],
   "source": [
    "from sklearn.feature_selection import SelectFromModel, RFECV\n",
    "model = RandomForestRegressor()\n",
    "\n",
    "M37 = RFECV(estimator=model, step=1, cv=kfold, scoring='r2', n_jobs=2)\n",
    "\n",
    "M37 = M37.fit(X_train, y_train)\n",
    "\n",
    "print('Optimal number of features :', M37.n_features_)\n",
    "\n",
    "print('Best features :', X.columns[M37.support_])"
   ]
  },
  {
   "cell_type": "code",
   "execution_count": 41,
   "id": "e142904b",
   "metadata": {},
   "outputs": [
    {
     "data": {
      "image/png": "[encoded data removed]",
      "text/plain": [
       "<Figure size 720x360 with 1 Axes>"
      ]
     },
     "metadata": {
      "needs_background": "light"
     },
     "output_type": "display_data"
    }
   ],
   "source": [
    "plt.figure(figsize=(10,5))\n",
    "plt.plot(range(1, len(M37.grid_scores_)+1), np.mean(M37.grid_scores_, axis=1), color='purple')\n",
    "plt.xlabel(\"No. of Features\")\n",
    "plt.ylabel(\"Accuracy\")\n",
    "plt.title(\"No. of Features vs Accuracy\")\n",
    "plt.show()"
   ]
  },
  {
   "cell_type": "code",
   "execution_count": 42,
   "id": "3a9f32db",
   "metadata": {},
   "outputs": [
    {
     "name": "stdout",
     "output_type": "stream",
     "text": [
      "0.41417857142857123\n",
      "0.9598152023809505\n",
      "0.9823374588585306\n"
     ]
    }
   ],
   "source": [
    "P37=M37.predict(X_test)\n",
    "\n",
    "print(mean_absolute_error(y_test,P37))\n",
    "print(mean_squared_error(y_test,P37))\n",
    "print(r2_score(y_test,P37))"
   ]
  },
  {
   "cell_type": "code",
   "execution_count": 43,
   "id": "ddb4cc15",
   "metadata": {},
   "outputs": [
    {
     "data": {
      "image/png": "[encoded data removed]",
      "text/plain": [
       "<Figure size 432x288 with 1 Axes>"
      ]
     },
     "metadata": {
      "needs_background": "light"
     },
     "output_type": "display_data"
    }
   ],
   "source": [
    "# # Plot number of features VS. cross-validation scores\n",
    "\n",
    "plt.figure()\n",
    "plt.xlabel(\"Number of features selected (RFE)\")\n",
    "plt.ylabel(\"Cross validation score (Accuracy)\")\n",
    "plt.plot(range(1, len(M37.grid_scores_) + 1), M37.grid_scores_)\n",
    "plt.legend(['Fold-1','Fold-2','Fold-3','Fold-4','Fold-5'])\n",
    "plt.show()"
   ]
  },
  {
   "cell_type": "code",
   "execution_count": 44,
   "id": "4f0de1b2",
   "metadata": {},
   "outputs": [
    {
     "data": {
      "text/plain": [
       "Index(['Density', 'Weight', 'Height', 'Chest', 'Abdomen', 'Thigh', 'Knee'], dtype='object')"
      ]
     },
     "execution_count": 44,
     "metadata": {},
     "output_type": "execute_result"
    }
   ],
   "source": [
    "best_feature_rvce=X.columns[M37.support_]\n",
    "best_feature_rvce"
   ]
  },
  {
   "cell_type": "markdown",
   "id": "13458a84",
   "metadata": {},
   "source": [
    "## Final Model"
   ]
  },
  {
   "cell_type": "code",
   "execution_count": 46,
   "id": "cba9ea97",
   "metadata": {},
   "outputs": [],
   "source": [
    "import pickle\n",
    "filename = 'finalized_model.pkl'\n",
    "pickle.dump(M12, open(filename, 'wb'))"
   ]
  }
 ],
 "metadata": {
  "kernelspec": {
   "display_name": "Python 3 (ipykernel)",
   "language": "python",
   "name": "python3"
  },
  "language_info": {
   "codemirror_mode": {
    "name": "ipython",
    "version": 3
   },
   "file_extension": ".py",
   "mimetype": "text/x-python",
   "name": "python",
   "nbconvert_exporter": "python",
   "pygments_lexer": "ipython3",
   "version": "3.9.12"
  }
 },
 "nbformat": 4,
 "nbformat_minor": 5
}
